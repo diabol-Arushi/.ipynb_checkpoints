{
 "cells": [
  {
   "cell_type": "code",
   "execution_count": 37,
   "id": "4959f329",
   "metadata": {},
   "outputs": [
    {
     "name": "stdout",
     "output_type": "stream",
     "text": [
      "lenght of string is  35\n",
      "egaugnal evitisnes esac a si nohtyP\n",
      " a case sensitive language\n",
      "Python is object oriented\n",
      "10\n",
      "Python is a case sensitive language\n"
     ]
    }
   ],
   "source": [
    "x = \"Python is a case sensitive language\"\n",
    "print(\"lenght of string is \",len(x))#a\n",
    "\n",
    "print(x[::-1])#b\n",
    "\n",
    "y = x[9:]#c\n",
    "print(y)\n",
    "\n",
    "\n",
    "print(x.replace(y,\" object oriented\"))#d\n",
    "\n",
    "\n",
    "print(x.index(\"a\"))#e\n",
    "\n",
    "print(x.strip())#f"
   ]
  },
  {
   "cell_type": "code",
   "execution_count": 3,
   "id": "949a7efc",
   "metadata": {},
   "outputs": [
    {
     "name": "stdout",
     "output_type": "stream",
     "text": [
      "name:\n",
      "arushi\n",
      "sid:\n",
      "22105030\n",
      "branch:\n",
      "ece\n",
      "cgpa:\n",
      "8\n",
      "Hey, arushi  here\n",
      "My sid is 22105030\n",
      "i am from  ece department and my cgpa is  8\n"
     ]
    }
   ],
   "source": [
    "print(\"name:\")\n",
    "name = input()\n",
    "print(\"sid:\")\n",
    "sid = input()\n",
    "print(\"branch:\")\n",
    "branch = input()\n",
    "print(\"cgpa:\")\n",
    "cgpa = input()\n",
    "print(\"Hey,\",name,\" here\")\n",
    "print(\"My sid is\",sid)\n",
    "print(\"i am from \",branch,\"department and my cgpa is \",cgpa)\n",
    " "
   ]
  },
  {
   "cell_type": "code",
   "execution_count": 43,
   "id": "d3b8d2ad",
   "metadata": {},
   "outputs": [
    {
     "name": "stdout",
     "output_type": "stream",
     "text": [
      "8\n",
      "58\n",
      "50\n",
      "224 40\n",
      "14 0\n"
     ]
    }
   ],
   "source": [
    "a = 56\n",
    "b = 10\n",
    "\n",
    "print(a&b)\n",
    "\n",
    "print(a|b)\n",
    "\n",
    "print(a^b)\n",
    " \n",
    "print(a<<2,b<<2)\n",
    "\n",
    "print(a>>2,b>>4)\n",
    "\n",
    "\n",
    "\n",
    "\n",
    "\n"
   ]
  },
  {
   "cell_type": "code",
   "execution_count": 4,
   "id": "b1d11e30",
   "metadata": {},
   "outputs": [
    {
     "name": "stdout",
     "output_type": "stream",
     "text": [
      "enter 1st number\n",
      "34\n",
      "enter 2nd number\n",
      "1000\n",
      "enter 3rd number\n",
      "5\n",
      "1000\n"
     ]
    }
   ],
   "source": [
    "print('enter 1st number')\n",
    "a = int(input())\n",
    "print('enter 2nd number')\n",
    "b = int(input())\n",
    "print('enter 3rd number')\n",
    "c = int(input())\n",
    "x = max(a,b,c)\n",
    "print(x)\n"
   ]
  },
  {
   "cell_type": "code",
   "execution_count": 11,
   "id": "d6138ae3",
   "metadata": {},
   "outputs": [
    {
     "name": "stdout",
     "output_type": "stream",
     "text": [
      "enter your text\n",
      "i am diabol\n",
      "not name is not present\n"
     ]
    }
   ],
   "source": [
    "print(\"enter your text\")\n",
    "x = input()\n",
    "if \"name\" in x:\n",
    "    print(\"yes name is present\")\n",
    "else:\n",
    "    print(\"not name is not present\")"
   ]
  },
  {
   "cell_type": "code",
   "execution_count": null,
   "id": "1c115b25",
   "metadata": {},
   "outputs": [
    {
     "name": "stdout",
     "output_type": "stream",
     "text": [
      "enter 1st side\n"
     ]
    }
   ],
   "source": [
    "print('enter 1st side')\n",
    "a = int(input())\n",
    "if a <= 0:\n",
    "    print(\"invalid\")\n",
    "print('enter 2nd side')\n",
    "b = int(input())\n",
    "if b <= 0:\n",
    "    print(\"invalid\")\n",
    "print('enter 3rd side')\n",
    "c = int(input())\n",
    "if c <= 0:\n",
    "    print(\"invalid\")\n",
    "if a+b <= c :\n",
    "    print(\"triangle does not exists\")\n",
    "elif a+c <= b :\n",
    "    print(\"triangle does not exists\")\n",
    "elif c+b <= a :\n",
    "    print(\"triangle does not exists\")\n",
    "else:\n",
    "    print(\"triangle exists with side \",a,b,c)\n",
    "    \n",
    "    "
   ]
  },
  {
   "cell_type": "code",
   "execution_count": null,
   "id": "a21677bd",
   "metadata": {},
   "outputs": [],
   "source": []
  },
  {
   "cell_type": "code",
   "execution_count": null,
   "id": "3b196e9d",
   "metadata": {},
   "outputs": [],
   "source": []
  }
 ],
 "metadata": {
  "kernelspec": {
   "display_name": "Python 3 (ipykernel)",
   "language": "python",
   "name": "python3"
  },
  "language_info": {
   "codemirror_mode": {
    "name": "ipython",
    "version": 3
   },
   "file_extension": ".py",
   "mimetype": "text/x-python",
   "name": "python",
   "nbconvert_exporter": "python",
   "pygments_lexer": "ipython3",
   "version": "3.9.7"
  }
 },
 "nbformat": 4,
 "nbformat_minor": 5
}
